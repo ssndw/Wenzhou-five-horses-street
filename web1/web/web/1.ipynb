{
 "cells": [
  {
   "cell_type": "code",
   "execution_count": 1,
   "metadata": {},
   "outputs": [
    {
     "name": "stdout",
     "output_type": "stream",
     "text": [
      "数据基本信息：\n",
      "<class 'pandas.core.frame.DataFrame'>\n",
      "RangeIndex: 157 entries, 0 to 156\n",
      "Data columns (total 8 columns):\n",
      " #   Column  Non-Null Count  Dtype  \n",
      "---  ------  --------------  -----  \n",
      " 0   标题      157 non-null    object \n",
      " 1   标题链接    157 non-null    object \n",
      " 2   图片      157 non-null    object \n",
      " 3   户型      157 non-null    object \n",
      " 4   地址      157 non-null    object \n",
      " 5   money   157 non-null    object \n",
      " 6   经度      157 non-null    float64\n",
      " 7   纬度      157 non-null    float64\n",
      "dtypes: float64(2), object(6)\n",
      "memory usage: 9.9+ KB\n",
      "数据前几行内容信息：\n",
      "\t标题\t标题链接\t图片\t户型\t地址\tmoney\t经度\t纬度\n",
      "0\t（本网推荐）免费看房！五马街，人民路，可直接领包入住！\thttps://wz.58.com/zufang/59541239533965x.shtml?compressed_params=H4sIAAAAAAAAA0XLOw6DMBBF0d24Hv95xSyAOguIRowViAQmMRbK7qFLc4sj3bYoW59o8MhwDjbGEIl8AJAom7n2VkZlnwB3JydCcNaaNsv2-nTZ-OyrvJeiUv94HzkOZFQOedT-nQqTEX0ev73wfgFQRL8jdQAAAA==\thttps://img.58cdn.com.cn/ui9/house/list/lazy_pic.png\t1室                        25㎡\t五马街105号小区\t800元/月\t120.6665\t28.0102\n",
      "1\t(可月付短租)时代广场，火车站车站大道等多套精简装修房屋出租\thttps://wz.58.com/zufang/49820240880697x.shtml?compressed_params=H4sIAAAAAAAAA0XLMQ6DMAxA0dtkdowNzuADMPcAlYWjQiUIbYhQbw9b1__06-IagfuIgIyYIjOR9N2AIChdmEureXRFYkqU4m0kxCnU2bbXp9mmZ1vtvWS38o_3MbBAcDvsUdp3ygrB_Hn89qz7BVXeKvl1AAAA\thttps://img.58cdn.com.cn/ui9/house/list/lazy_pic.png\t1室                        30㎡\t时代公寓\t1000元/月\t120.6743\t27.9932\n",
      "2\t（免费带看，登记）五马街精装公寓多套，商业街旁，性价比之选\thttps://wz.58.com/zufang/81934428813403x.shtml?compressed_params=H4sIAAAAAAAAA0XLMQ7CMAwAwN9kdhMntgc_gJkHIAtHbZFoCmmE-D1sXU-6vrpOqQAnIYlRppwxAyQUkQIUljZ6vbgmZqKCERGQBSD0xbb5NWzTz3jaY61u7cT_oMwQ3A67tvG-V4Vgfju-e9X9B3VpNQ51AAAA\thttps://img.58cdn.com.cn/ui9/house/list/lazy_pic.png\t1室                        25㎡\t打铁巷9号楼\t600元/月\t120.6648\t28.0115\n",
      "3\t（免费看房！）锦绣路多套好房，直接领包入住，急租直接领包电话\thttps://wz.58.com/zufang/82670934653402x.shtml?compressed_params=H4sIAAAAAAAAA0XLMQ7CMAxA0dtkdpy4sQcfgJkDIAtHtEg0hTSquD3dWL_e74trlFwiQWREiUSZKGWEnApimNvo9eKahBHSJCeYmIVDn219vIeteoyXPZfq1v7xPAoxBLfdrm187lUhmN_271Z1-wGYCRhzdQAAAA==\thttps://img.58cdn.com.cn/ui9/house/list/lazy_pic.png\t1室                        35㎡\t蒲鞋市68,76弄小区\t1000元/月\t120.6854\t27.9996\n",
      "4\t（免费看房！）欧洲城850到1500，全新多套出租，可直接住\thttps://wz.58.com/zufang/59542047800368x.shtml?compressed_params=H4sIAAAAAAAAA0XLuw3CMBAA0G1c-37xufAA1AyATpyVBIk44FiI7aFL-6TXVy8gSpKiAmIGERZgBJ6UJYWljV4vXmjKmTgyMSZA0tAX2-bXsK18xtMea3VrJ_5HEo3B7bBrG-97LTGY347vXsv-A9QziQ91AAAA\thttps://img.58cdn.com.cn/ui9/house/list/lazy_pic.png\t1室                        25㎡\t欧洲城(商住楼)\t850元/月\t120.6801\t28.0205\n",
      "\n"
     ]
    }
   ],
   "source": [
    "import pandas as pd\n",
    "\n",
    "# 加载 CSV 文件\n",
    "df = pd.read_csv('修改成功1.csv')\n",
    "\n",
    "print('数据基本信息：')\n",
    "df.info()\n",
    "\n",
    "# 查看数据集行数和列数\n",
    "rows, columns = df.shape\n",
    "\n",
    "if rows < 100 and columns < 20:\n",
    "    # 短表数据（行数少于100且列数少于20）查看全量数据信息\n",
    "    print('数据全部内容信息：')\n",
    "    print(df.to_csv(sep='\\t', na_rep='nan'))\n",
    "else:\n",
    "    # 长表数据查看数据前几行信息\n",
    "    print('数据前几行内容信息：')\n",
    "    print(df.head().to_csv(sep='\\t', na_rep='nan'))"
   ]
  }
 ],
 "metadata": {
  "kernelspec": {
   "display_name": "base",
   "language": "python",
   "name": "python3"
  },
  "language_info": {
   "codemirror_mode": {
    "name": "ipython",
    "version": 3
   },
   "file_extension": ".py",
   "mimetype": "text/x-python",
   "name": "python",
   "nbconvert_exporter": "python",
   "pygments_lexer": "ipython3",
   "version": "3.12.4"
  }
 },
 "nbformat": 4,
 "nbformat_minor": 2
}
